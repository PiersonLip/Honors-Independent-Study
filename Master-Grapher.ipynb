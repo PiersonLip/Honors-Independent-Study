{
 "cells": [
  {
   "cell_type": "code",
   "execution_count": 1,
   "id": "8d71a238",
   "metadata": {},
   "outputs": [],
   "source": [
    "import importlib.util\n",
    "import sys\n",
    "\n",
    "# Define the file path\n",
    "file_path = r\"C:\\Users\\iatpuser\\Desktop\\Code\\Honors-Independent-Study\\HRDiagram.py\"\n",
    "\n",
    "# Load the module\n",
    "spec = importlib.util.spec_from_file_location(\"HRDiagram\", file_path)\n",
    "HRDiagram = importlib.util.module_from_spec(spec)\n",
    "sys.modules[\"HRDiagram\"] = HRDiagram\n",
    "spec.loader.exec_module(HRDiagram)\n"
   ]
  },
  {
   "cell_type": "code",
   "execution_count": 2,
   "id": "6b66b094-08a9-4b2b-a42b-981c25f4d634",
   "metadata": {},
   "outputs": [
    {
     "data": {
      "text/plain": [
       "<function HRDiagram.color_map_HR(DB, variable, name_of_var, title, saveLoc, exampleLum=0, exampleTemp=0, examplePoint='F', Log1='F', S_R='T', minR=1.5, maxR=6.5, ylimit='T', style='dark_background')>"
      ]
     },
     "execution_count": 2,
     "metadata": {},
     "output_type": "execute_result"
    }
   ],
   "source": [
    "import matplotlib.pyplot as plt\n",
    "import pandas as pd \n",
    "import numpy as np\n",
    "import h5py\n",
    "from matplotlib.pyplot import figure\n",
    "from scipy import stats\n",
    "from scipy import stats\n",
    "from scipy.stats import skewnorm\n",
    "from HRDiagram import color_map_HR\n",
    "color_map_HR"
   ]
  },
  {
   "cell_type": "code",
   "execution_count": 3,
   "id": "abb71117-1e3a-4d69-99b3-f825b5d2a6db",
   "metadata": {},
   "outputs": [
    {
     "name": "stderr",
     "output_type": "stream",
     "text": [
      "<>:9: SyntaxWarning: invalid escape sequence '\\o'\n",
      "<>:43: SyntaxWarning: invalid escape sequence '\\o'\n",
      "<>:9: SyntaxWarning: invalid escape sequence '\\o'\n",
      "<>:43: SyntaxWarning: invalid escape sequence '\\o'\n",
      "C:\\Users\\iatpuser\\AppData\\Local\\Temp\\ipykernel_13592\\2434895413.py:9: SyntaxWarning: invalid escape sequence '\\o'\n",
      "  plt.xlabel('Star Two Mass $M_{\\odot}$ ')\n",
      "C:\\Users\\iatpuser\\AppData\\Local\\Temp\\ipykernel_13592\\2434895413.py:43: SyntaxWarning: invalid escape sequence '\\o'\n",
      "  plt.xlabel('Star Two Mass $M_{\\odot}$ ')\n"
     ]
    }
   ],
   "source": [
    "def MasterGrapher(db, SaveLoc, Title = 'Default', eccHisto= 'F', eccHistoFit='F', massHisto= 'F', massHistoFit= 'T', HRDiagram= 'F', g5= 'F', g6 = 'F'):\n",
    "    \n",
    "    #Graph 1\n",
    "\n",
    "    if eccHisto == 'T':\n",
    "        eccHisto = plt.figure()\n",
    "        plt.hist(db['eccentricity'], bins=40)\n",
    "        plt.title('Star Two Mass Distribution in' + ' ' + Title)\n",
    "        plt.xlabel('Star Two Mass $M_{\\odot}$ ')\n",
    "        plt.ylabel('Quanity')\n",
    "        plt.savefig(SaveLoc + Title + ' ' +'Star Two Mass Distribution' + '.png')\n",
    "        plt.close(eccHisto)\n",
    "    \n",
    "    if eccHistoFit == 'T':\n",
    "        FilteredDB = db[db['eccentricity'] != 0]\n",
    "\n",
    "\n",
    "        data = FilteredDB['eccentricity']\n",
    "        # Fit the skew normal distribution to the data\n",
    "\n",
    "        fig1 = plt.figure()\n",
    "        # Plot histogram\n",
    "        plt.hist(data, bins=75, density=True, alpha=0.6, color='blue', label=\"Histogram\")\n",
    "\n",
    "        shape, loc, scale = skewnorm.fit(data)\n",
    "        x = np.linspace(min(data), max(data), 1000)\n",
    "        pdf = skewnorm.pdf(x, shape, loc, scale)  # Compute PDF values\n",
    "        plt.plot(x, pdf, 'r-', label=\"Fitted Eccentricity Distribution\", linewidth=2, linestyle='dashed')\n",
    "\n",
    "        # Labels and legend\n",
    "        plt.xlabel(\"Eccentricity\")\n",
    "        plt.ylabel(\"Density\")\n",
    "        plt.title(Title +' '+  'Eccentricity Distribution' )\n",
    "        if eccHistoFit == 'T':\n",
    "            plt.legend()\n",
    "        plt.savefig(SaveLoc + Title + ' ' + 'Eccentricty Distribution' + '.png')\n",
    "        plt.close(fig1)\n",
    "    \n",
    "    if massHisto == 'T':\n",
    "        fig2 = plt.figure()\n",
    "        plt.hist(db['S2_mass'], bins=40)\n",
    "        plt.title('Star Two Mass Distribution in' + ' ' + Title)\n",
    "        plt.xlabel('Star Two Mass $M_{\\odot}$ ')\n",
    "        plt.ylabel('Quanity')\n",
    "        plt.savefig(SaveLoc + Title + ' ' +'Star Two Mass Distribution' + '.png')\n",
    "        plt.close(fig2)\n",
    "        plt.close(fig2)\n",
    "\n",
    "    if HRDiagram == 'T':\n",
    "        color_map_HR(DB = db, variable= 'S2_mass', name_of_var='Star Two Mass', title=Title, saveLoc=SaveLoc, ylimit='F', style='default')"
   ]
  },
  {
   "cell_type": "code",
   "execution_count": 7,
   "id": "0bd480f8-83b4-4600-84e4-6ebe8ebdd887",
   "metadata": {},
   "outputs": [],
   "source": [
    "contact = pd.read_csv(r'C:\\Users\\iatpuser\\Desktop\\Code\\Honors-Independent-Study\\data\\contact.csv', low_memory=False)\n",
    "LMXBs = pd.read_csv(r'C:\\Users\\iatpuser\\Desktop\\Code\\Honors-Independent-Study\\data\\lmxb.csv', low_memory=False)\n",
    "HMXBs = pd.read_csv(r'C:\\Users\\iatpuser\\Desktop\\Code\\Honors-Independent-Study\\data\\hmxb.csv', low_memory=False)\n",
    "detached = pd.read_csv(r'C:\\Users\\iatpuser\\Desktop\\Code\\Honors-Independent-Study\\data\\detached.csv', low_memory=False)\n",
    "XBs = pd.read_csv(r'C:\\Users\\iatpuser\\Desktop\\Code\\Honors-Independent-Study\\data\\xb.csv', low_memory=False)\n",
    "V404Dataset  = pd.read_csv(r'C:\\Users\\iatpuser\\Desktop\\Code\\Honors-Independent-Study\\data\\V404dataset.csv', low_memory=False)\n",
    "\n",
    "SaveLoc = r'C:\\Users\\iatpuser\\Desktop\\Code\\Honors-Independent-Study\\graphs\\testing\\\\'"
   ]
  },
  {
   "cell_type": "code",
   "execution_count": 16,
   "id": "0b5f9aea",
   "metadata": {},
   "outputs": [
    {
     "name": "stderr",
     "output_type": "stream",
     "text": [
      "C:\\Users\\iatpuser\\AppData\\Local\\Temp\\ipykernel_13592\\2434895413.py:28: UserWarning: linestyle is redundantly defined by the 'linestyle' keyword argument and the fmt string \"r-\" (-> linestyle='-'). The keyword argument will take precedence.\n",
      "  plt.plot(x, pdf, 'r-', label=\"Fitted Eccentricity Distribution\", linewidth=2, linestyle='dashed')\n"
     ]
    },
    {
     "name": "stdout",
     "output_type": "stream",
     "text": [
      "C:\\Users\\iatpuser\\Desktop\\Code\\Honors-Independent-Study\\graphs\\testing\\\\ X-ray Binaries Star Two Mass log10 F star radius T\n"
     ]
    }
   ],
   "source": [
    "# MasterGrapher(contact, SaveLoc, 'Contact binaries', massHisto = 'T', eccHisto = 'F', eccHistoFit= 'F', HRDiagram= 'T' )\n",
    "# MasterGrapher(LMXBs, SaveLoc, 'Low Mass X-ray Binaries', massHisto = 'T', eccHisto = 'F', eccHistoFit= 'T', HRDiagram= 'T' )\n",
    "# MasterGrapher(HMXBs, SaveLoc, 'High Mass X-ray Binaries', massHisto = 'T', eccHisto = 'F', eccHistoFit= 'T', HRDiagram= 'T')\n",
    "MasterGrapher(XBs, SaveLoc, 'X-ray Binaries', massHisto = 'T', eccHisto = 'T', eccHistoFit= 'T', HRDiagram= 'T')\n",
    "\n",
    "\n",
    "# color_map_HR(DB = detached, variable= 'S2_mass', name_of_var='Star Two Mass', examplePoint='T', exampleLum=1300, exampleTemp = 25000, title='Vela X-1 HR Context', saveLoc=SaveLoc, ylimit='F', style='default', S_R = 5 )\n",
    "# color_map_HR(DB = contact, variable= 'S2_mass', name_of_var='Star Two Mass', examplePoint='T', exampleLum=1.557, exampleTemp = 6450, title='W Ursae Majories HR Context', saveLoc=SaveLoc, ylimit='F', style='default', S_R = 5 )\n",
    "# color_map_HR(DB = V404Dataset, variable= 'S2_mass', name_of_var='Star Two Mass', examplePoint='T', exampleLum=10.2, exampleTemp = 4800, title='V404 Cyngi HR Context', saveLoc=SaveLoc, ylimit='F', style='default', S_R = 5 )"
   ]
  },
  {
   "cell_type": "code",
   "execution_count": 6,
   "id": "9f06031e",
   "metadata": {},
   "outputs": [
    {
     "name": "stdout",
     "output_type": "stream",
     "text": [
      "C:\\Users\\iatpuser\\Desktop\\Code\\Honors-Independent-Study\\graphs\\testing\\\\ testing Star Two Mass log10 F star radius 5\n"
     ]
    }
   ],
   "source": [
    "color_map_HR(DB = detached, variable= 'S2_mass', name_of_var='Star Two Mass', title='testing', saveLoc=SaveLoc, ylimit='F', style='default', S_R = 5 )"
   ]
  }
 ],
 "metadata": {
  "kernelspec": {
   "display_name": "base",
   "language": "python",
   "name": "python3"
  },
  "language_info": {
   "codemirror_mode": {
    "name": "ipython",
    "version": 3
   },
   "file_extension": ".py",
   "mimetype": "text/x-python",
   "name": "python",
   "nbconvert_exporter": "python",
   "pygments_lexer": "ipython3",
   "version": "3.12.4"
  }
 },
 "nbformat": 4,
 "nbformat_minor": 5
}
