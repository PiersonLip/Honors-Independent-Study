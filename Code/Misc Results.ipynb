{
 "cells": [
  {
   "cell_type": "code",
   "execution_count": 1,
   "id": "14e92ebf",
   "metadata": {},
   "outputs": [],
   "source": [
    "import matplotlib.pyplot as plt\n",
    "import pandas as pd \n",
    "import numpy as np\n",
    "import h5py\n",
    "from matplotlib.pyplot import figure\n",
    "from scipy import stats\n",
    "from scipy import stats\n",
    "from scipy.stats import skewnorm\n",
    "from HRDiagram import color_map_HR"
   ]
  },
  {
   "cell_type": "code",
   "execution_count": 6,
   "id": "a91e3b85",
   "metadata": {},
   "outputs": [],
   "source": [
    "contact = pd.read_csv(r'C:\\Users\\iatpuser\\Desktop\\Code\\Honors-Independent-Study\\data\\contact.csv', low_memory=False)\n",
    "pd.set_option('display.max_columns', None)\n"
   ]
  },
  {
   "cell_type": "code",
   "execution_count": 4,
   "id": "1655eeb0",
   "metadata": {},
   "outputs": [
    {
     "data": {
      "text/plain": [
       "count    1993.000000\n",
       "mean       10.703635\n",
       "std         7.708687\n",
       "min         1.198356\n",
       "25%         5.939655\n",
       "50%         9.728450\n",
       "75%        13.222112\n",
       "max        52.755102\n",
       "Name: S1_mass, dtype: float64"
      ]
     },
     "execution_count": 4,
     "metadata": {},
     "output_type": "execute_result"
    }
   ],
   "source": [
    "contact['S1_mass'].describe()"
   ]
  },
  {
   "cell_type": "code",
   "execution_count": null,
   "id": "9bdc9340",
   "metadata": {},
   "outputs": [
    {
     "data": {
      "text/plain": [
       "count    1993.000000\n",
       "mean       10.654860\n",
       "std         9.273876\n",
       "min         0.555141\n",
       "25%         4.771475\n",
       "50%         8.831021\n",
       "75%        14.325438\n",
       "max        55.262743\n",
       "Name: S2_mass, dtype: float64"
      ]
     },
     "execution_count": 3,
     "metadata": {},
     "output_type": "execute_result"
    }
   ],
   "source": [
    "contact['S2_mass'].describe()"
   ]
  },
  {
   "cell_type": "code",
   "execution_count": 13,
   "id": "f9c769fb",
   "metadata": {},
   "outputs": [],
   "source": [
    "def qCalc(row):\n",
    "    a = row['S1_mass']\n",
    "    b = row['S2_mass']\n",
    "    if a > b:\n",
    "        return b / a\n",
    "    else:\n",
    "        return a / b\n",
    "\n",
    "contact['q'] = contact.apply(qCalc, axis=1)\n"
   ]
  },
  {
   "cell_type": "code",
   "execution_count": null,
   "id": "5f16888a",
   "metadata": {},
   "outputs": [],
   "source": [
    "contact['q'] = contact.apply(qCalc, axis=1)\n"
   ]
  },
  {
   "cell_type": "code",
   "execution_count": 17,
   "id": "5752082b",
   "metadata": {},
   "outputs": [
    {
     "data": {
      "text/plain": [
       "count    1993.000000\n",
       "mean        0.674790\n",
       "std         0.303602\n",
       "min         0.100664\n",
       "25%         0.419485\n",
       "50%         0.748801\n",
       "75%         0.972740\n",
       "max         0.999988\n",
       "Name: q, dtype: float64"
      ]
     },
     "execution_count": 17,
     "metadata": {},
     "output_type": "execute_result"
    }
   ],
   "source": [
    "contact['q'].describe()"
   ]
  }
 ],
 "metadata": {
  "kernelspec": {
   "display_name": "base",
   "language": "python",
   "name": "python3"
  },
  "language_info": {
   "codemirror_mode": {
    "name": "ipython",
    "version": 3
   },
   "file_extension": ".py",
   "mimetype": "text/x-python",
   "name": "python",
   "nbconvert_exporter": "python",
   "pygments_lexer": "ipython3",
   "version": "3.12.4"
  }
 },
 "nbformat": 4,
 "nbformat_minor": 5
}
