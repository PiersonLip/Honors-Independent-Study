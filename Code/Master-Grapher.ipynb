{
 "cells": [
  {
   "cell_type": "code",
   "execution_count": null,
   "id": "8d71a238",
   "metadata": {},
   "outputs": [],
   "source": [
    "# import importlib.util\n",
    "# import sys\n",
    "\n",
    "# # Define the file path\n",
    "# file_path = r\"C:\\Users\\iatpuser\\Desktop\\Code\\Honors-Independent-Study\\code\\HRDiagram.py\"\n",
    "\n",
    "# # Load the module\n",
    "# spec = importlib.util.spec_from_file_location(\"HRDiagram\", file_path)\n",
    "# HRDiagram = importlib.util.module_from_spec(spec)\n",
    "# sys.modules[\"HRDiagram\"] = HRDiagram\n",
    "# spec.loader.exec_module(HRDiagram)\n"
   ]
  },
  {
   "cell_type": "code",
   "execution_count": 1,
   "id": "6b66b094-08a9-4b2b-a42b-981c25f4d634",
   "metadata": {},
   "outputs": [
    {
     "data": {
      "text/plain": [
       "<function HRDiagram.color_map_HR(DB, variable, name_of_var, title, saveLoc, examplePoint='F', examplePointRange='F', exampleLum=0, exampleTemp=0, exampleTempMin=0, exampleTempMax=0, exampleLumMin=0, exampleLumMax=0, Log1='F', S_R='T', minR=1.5, maxR=6.5, ylimit='T', style='dark_background', fileName='Default')>"
      ]
     },
     "execution_count": 1,
     "metadata": {},
     "output_type": "execute_result"
    }
   ],
   "source": [
    "import matplotlib.pyplot as plt\n",
    "import pandas as pd \n",
    "import numpy as np\n",
    "import h5py\n",
    "from matplotlib.pyplot import figure\n",
    "from scipy import stats\n",
    "from scipy import stats\n",
    "from scipy.stats import skewnorm\n",
    "from HRDiagram import color_map_HR\n",
    "from pathlib import Path\n",
    "import matplotlib.patches as patches\n",
    "pd.set_option('display.max_columns', None)\n",
    "color_map_HR\n"
   ]
  },
  {
   "cell_type": "code",
   "execution_count": 2,
   "id": "bd2670bb",
   "metadata": {},
   "outputs": [],
   "source": [
    "# Set the base path relative to where the script is\n",
    "base_path = Path().resolve().parent / 'data'\n",
    "\n",
    "contact = pd.read_csv(base_path / 'contact.csv', low_memory=False)\n",
    "LMXBs = pd.read_csv(base_path / 'lmxb.csv', low_memory=False)\n",
    "HMXBs = pd.read_csv(base_path / 'hmxb.csv', low_memory=False)\n",
    "detached = pd.read_csv(base_path / 'detached.csv', low_memory=False)\n",
    "XBs = pd.read_csv(base_path / 'xb.csv', low_memory=False)\n",
    "V404Dataset = pd.read_csv(base_path / 'V404dataset.csv', low_memory=False)\n",
    "\n",
    "# EndStateDataset = pd.read_hdf(base_path / '1e+00_Zsun_population_max.h5', low_memory=False, key='history')"
   ]
  },
  {
   "cell_type": "code",
   "execution_count": 3,
   "id": "9589e52e",
   "metadata": {},
   "outputs": [],
   "source": [
    "# SaveLoc = r'C:\\Users\\iatpuser\\Desktop\\Code\\Honors-Independent-Study\\graphs\\testing\\\\'\n",
    "\n",
    "figs_path = Path().resolve().parent / 'paper' / 'figs' / 'GeneratedFigs'\n",
    "\n",
    "V404CyngiSaveLoc = Path().resolve().parent / 'paper' / 'figs' / 'GeneratedFigs' / 'V404_Cygni'\n",
    "\n",
    "VelaX1SaveLoc = Path().resolve().parent / 'paper' / 'figs' / 'GeneratedFigs' / 'VelaX-1'\n",
    "\n",
    "WUMaSaveLoc = Path().resolve().parent / 'paper' / 'figs' / 'GeneratedFigs' / 'W_Uma'\n"
   ]
  },
  {
   "cell_type": "code",
   "execution_count": 6,
   "id": "0b5f9aea",
   "metadata": {},
   "outputs": [],
   "source": [
    "# MasterGrapher(contact, SaveLoc, 'Contact binaries', massHistoStar2 = 'T', massHistoStar1 = 'T', eccHisto = 'F', eccHistoFit= 'F', HRDiagram= 'T' )\n",
    "# MasterGrapher(LMXBs, SaveLoc, 'Low Mass X-ray Binaries', massHistoStar2 = 'T', eccHisto = 'F', eccHistoFit= 'T', HRDiagram= 'T' )\n",
    "# MasterGrapher(HMXBs, SaveLoc, 'High Mass X-ray Binaries', massHistoStar2 = 'T', eccHisto = 'F', eccHistoFit= 'T', HRDiagram= 'T')\n",
    "# MasterGrapher(XBs, SaveLoc, 'X-ray Binaries', massHistoStar2 = 'T', eccHisto = 'T', eccHistoFit= 'T', HRDiagram= 'T')\n",
    "# MasterGrapher(detached, SaveLoc, 'Detached Binaries', massHistoStar2 = 'T', eccHisto = 'T', eccHistoFit= 'T', HRDiagram= 'T')\n",
    "\n",
    "# Vela X-1\n",
    "\n",
    "# color_map_HR(DB = HMXBs, variable= 'S2_surface_h1', name_of_var=r'Sufrace Hydrogen (%)', examplePoint='T', examplePointRange = 'T', exampleTemp = 33700, exampleTempMin= 33700 - 5200, exampleTempMax = 33700 + 5200, exampleLumMin = 630957, exampleLumMax= 1584893, exampleLum=(1584893+630957)/2, title='Vela X-1 compared with HMXBs', saveLoc=VelaX1SaveLoc, ylimit='F', style='default', S_R = 5,fileName='VelaX1SufraceHydrogenHMXBComp')\n",
    "\n",
    "color_map_HR(DB = XBs, variable= 'S2_mass', name_of_var=r'Star Two $M_{\\odot}$', examplePoint='T', examplePointRange = 'T', exampleLum=(1584893+630957)/2, exampleTemp = 33700, exampleTempMin= 33700 - 5200, exampleTempMax = 33700 + 5200, exampleLumMin = 630957, exampleLumMax= 1584893, title='Vela X-1 compared with X-ray binary populaton', saveLoc=VelaX1SaveLoc, ylimit='F', style='default', S_R = 5, fileName='VelaX1XrBPopulationHRComp')\n",
    "\n",
    "# color_map_HR(DB = XBs, variable= 'S2_mass', name_of_var=r'Star Two $M_{\\odot}$', examplePoint='T', exampleLum=(1584893+630957)/2, exampleTemp = 33700, exampleTempMin= 33700 - 5200, exampleTempMax = 33700 + 5200, exampleLumMin = 630957, exampleLumMax= 1584893, title='Vela X-1 compared with X-ray binary populaton', saveLoc=VelaX1SaveLoc, ylimit='F', style='default', S_R = 5, fileName='VelaX1XrBPopulationHRComp')\n",
    "\n",
    "# V404 \n",
    "\n",
    "# color_map_HR(DB = XBs, variable= 'S2_mass', name_of_var=r'Star Two $M_{\\odot}$', examplePoint='T', exampleLum=8.7, exampleTemp = 4274, title='V404 Cyngi HR Context', saveLoc=V404CyngiSaveLoc, ylimit='F', style='default', S_R = 5, fileName='V404XBsPopulationHRComp')\n",
    "\n",
    "# color_map_HR(DB = EndStateDataset, variable= 'S2_mass', name_of_var=r'Star Two $M_{\\odot}$', examplePoint='T', exampleLum=8.7, examplePointRange= 'T', exampleLumMax= 8.7+1.7, exampleLumMin= 8.7 - 1.4,  exampleTemp = 4274, title='V404 Cyngi HR Context', saveLoc=V404CyngiSaveLoc, ylimit='F', style='default', S_R = 5, fileName='V404EndStateDatasetPopulationHRComp')\n",
    "\n",
    "\n",
    "# color_map_HR(DB = EntireDataset, variable= 'S2_mass', name_of_var=r'Star Two $M_{\\odot}$', examplePoint='T', exampleLum=8.7, examplePointRange= 'T', exampleLumMax= 8.7+1.7, exampleLumMin= 8.7 - 1.4,  exampleTemp = 4274, title='V404 Cyngi HR Context', saveLoc=V404CyngiSaveLoc, ylimit='F', style='default', S_R = 5, fileName='V404EntireDatasetPopulationHRComp')\n",
    "\n",
    "# W UMa\n",
    "\n",
    "# color_map_HR(DB = contact, variable= 'S2_mass', name_of_var=r'Star Two $M_{\\odot}$', examplePoint='T', exampleLum=1.557, exampleTemp = 6450, title='W Ursae Majories HR Context', saveLoc=WUMaSaveLoc, ylimit='F', style='default', S_R = 5, fileName='WUMaHRDiagram')\n",
    "\n",
    "# color_map_HR(DB = contact, variable= 'S2_mass', name_of_var=r'Star Two $M_{\\odot}$', examplePoint='F', exampleLum=1.557, exampleTemp = 6450, title='W Ursae Majories HR Context', saveLoc=WUMaSaveLoc, ylimit='F', style='default', S_R = 5, fileName='ContactbinaryHRDiagram')\n",
    "\n",
    "# posydon example\n",
    "\n",
    "# color_map_HR(DB = EntireDataset, variable= 'S2_mass', name_of_var=r'Star Two $M_{\\odot}$', title='Whole POSYDON Dataset', saveLoc=SaveLoc, ylimit='F', style='default', S_R = 5, fileName='WholePOSYDONDatasetExample')\n",
    "\n"
   ]
  },
  {
   "cell_type": "code",
   "execution_count": null,
   "id": "9f06031e",
   "metadata": {},
   "outputs": [],
   "source": []
  }
 ],
 "metadata": {
  "kernelspec": {
   "display_name": ".venv",
   "language": "python",
   "name": "python3"
  },
  "language_info": {
   "codemirror_mode": {
    "name": "ipython",
    "version": 3
   },
   "file_extension": ".py",
   "mimetype": "text/x-python",
   "name": "python",
   "nbconvert_exporter": "python",
   "pygments_lexer": "ipython3",
   "version": "3.11.9"
  }
 },
 "nbformat": 4,
 "nbformat_minor": 5
}
