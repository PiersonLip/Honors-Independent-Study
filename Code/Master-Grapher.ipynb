{
 "cells": [
  {
   "cell_type": "code",
   "execution_count": 1,
   "id": "8d71a238",
   "metadata": {},
   "outputs": [],
   "source": [
    "import importlib.util\n",
    "import sys\n",
    "\n",
    "# Define the file path\n",
    "file_path = r\"C:\\Users\\iatpuser\\Desktop\\Code\\Honors-Independent-Study\\HRDiagram.py\"\n",
    "\n",
    "# Load the module\n",
    "spec = importlib.util.spec_from_file_location(\"HRDiagram\", file_path)\n",
    "HRDiagram = importlib.util.module_from_spec(spec)\n",
    "sys.modules[\"HRDiagram\"] = HRDiagram\n",
    "spec.loader.exec_module(HRDiagram)\n"
   ]
  },
  {
   "cell_type": "code",
   "execution_count": 2,
   "id": "6b66b094-08a9-4b2b-a42b-981c25f4d634",
   "metadata": {},
   "outputs": [],
   "source": [
    "import matplotlib.pyplot as plt\n",
    "import pandas as pd \n",
    "import numpy as np\n",
    "import h5py\n",
    "from matplotlib.pyplot import figure\n",
    "from scipy import stats\n",
    "from scipy import stats\n",
    "from scipy.stats import skewnorm\n",
    "from HRDiagram import color_map_HR\n",
    "color_map_HR\n",
    "import matplotlib.patches as patches\n",
    "pd.set_option('display.max_columns', None)"
   ]
  },
  {
   "cell_type": "code",
   "execution_count": 3,
   "id": "0bd480f8-83b4-4600-84e4-6ebe8ebdd887",
   "metadata": {},
   "outputs": [],
   "source": [
    "contact = pd.read_csv(r'C:\\Users\\iatpuser\\Desktop\\Code\\Honors-Independent-Study\\data\\contact.csv', low_memory=False)\n",
    "LMXBs = pd.read_csv(r'C:\\Users\\iatpuser\\Desktop\\Code\\Honors-Independent-Study\\data\\lmxb.csv', low_memory=False)\n",
    "HMXBs = pd.read_csv(r'C:\\Users\\iatpuser\\Desktop\\Code\\Honors-Independent-Study\\data\\hmxb.csv', low_memory=False)\n",
    "detached = pd.read_csv(r'C:\\Users\\iatpuser\\Desktop\\Code\\Honors-Independent-Study\\data\\detached.csv', low_memory=False)\n",
    "XBs = pd.read_csv(r'C:\\Users\\iatpuser\\Desktop\\Code\\Honors-Independent-Study\\data\\xb.csv', low_memory=False)\n",
    "V404Dataset  = pd.read_csv(r'C:\\Users\\iatpuser\\Desktop\\Code\\Honors-Independent-Study\\data\\V404dataset.csv', low_memory=False)\n",
    "\n",
    "# EndStateDataset  = pd.read_csv(r'C:\\Users\\iatpuser\\Desktop\\Code\\Honors-Independent-Study\\data\\enddf.csv', low_memory=False)\n",
    "\n",
    "\n",
    "# EntireDataset = pd.read_hdf(r'data\\1e+00_Zsun_population_max.h5', key = 'history')\n",
    "\n",
    "\n",
    "\n"
   ]
  },
  {
   "cell_type": "code",
   "execution_count": null,
   "id": "15fac114",
   "metadata": {},
   "outputs": [],
   "source": []
  },
  {
   "cell_type": "code",
   "execution_count": 4,
   "id": "9589e52e",
   "metadata": {},
   "outputs": [],
   "source": [
    "# SaveLoc = r'C:\\Users\\iatpuser\\Desktop\\Code\\Honors-Independent-Study\\graphs\\testing\\\\'\n",
    "\n",
    "SaveLoc = r'C:\\Users\\iatpuser\\Desktop\\Code\\Honors-Independent-Study\\paper\\figs\\GeneratedFigs\\\\'\n",
    "\n",
    "V404CyngiSaveLoc = r'C:\\Users\\iatpuser\\Desktop\\Code\\Honors-Independent-Study\\paper\\figs\\GeneratedFigs\\V404_Cyngi\\\\'\n",
    "\n",
    "VelaX1SaveLoc = r'C:\\Users\\iatpuser\\Desktop\\Code\\Honors-Independent-Study\\paper\\figs\\GeneratedFigs\\VelaX-1\\\\'\n",
    "\n",
    "WUMaSaveLoc = r'C:\\Users\\iatpuser\\Desktop\\Code\\Honors-Independent-Study\\paper\\figs\\GeneratedFigs\\W_UMa\\\\'\n"
   ]
  },
  {
   "cell_type": "code",
   "execution_count": 6,
   "id": "0b5f9aea",
   "metadata": {},
   "outputs": [],
   "source": [
    "# MasterGrapher(contact, SaveLoc, 'Contact binaries', massHistoStar2 = 'T', massHistoStar1 = 'T', eccHisto = 'F', eccHistoFit= 'F', HRDiagram= 'T' )\n",
    "# MasterGrapher(LMXBs, SaveLoc, 'Low Mass X-ray Binaries', massHistoStar2 = 'T', eccHisto = 'F', eccHistoFit= 'T', HRDiagram= 'T' )\n",
    "# MasterGrapher(HMXBs, SaveLoc, 'High Mass X-ray Binaries', massHistoStar2 = 'T', eccHisto = 'F', eccHistoFit= 'T', HRDiagram= 'T')\n",
    "# MasterGrapher(XBs, SaveLoc, 'X-ray Binaries', massHistoStar2 = 'T', eccHisto = 'T', eccHistoFit= 'T', HRDiagram= 'T')\n",
    "# MasterGrapher(detached, SaveLoc, 'Detached Binaries', massHistoStar2 = 'T', eccHisto = 'T', eccHistoFit= 'T', HRDiagram= 'T')\n",
    "\n",
    "\n",
    "# color_map_HR(DB = HMXBs, variable= 'S2_mass', name_of_var=r'Star Two $M_{\\odot}$', examplePoint='T', exampleLum=(1584893+630957)/2, exampleTemp = 33700, exampleTempMin= 33700 - 5200, exampleTempMax = 33700 + 5200, exampleLumMin = 630957, exampleLumMax= 1584893, title='Vela X-1 compared with HMXBs', saveLoc=VelaX1SaveLoc, ylimit='F', style='default', S_R = 5,fileName='VelaX1HMXBPopulationHRComp')\n",
    "\n",
    "# Vela X-1\n",
    "# color_map_HR(DB = XBs, variable= 'S2_mass', name_of_var=r'Star Two $M_{\\odot}$', examplePoint='T', exampleLum=(1584893+630957)/2, exampleTemp = 33700, exampleTempMin= 33700 - 5200, exampleTempMax = 33700 + 5200, exampleLumMin = 630957, exampleLumMax= 1584893, title='Vela X-1 compared with X-ray binary populaton', saveLoc=VelaX1SaveLoc, ylimit='F', style='default', S_R = 5, fileName='VelaX1XrBPopulationHRComp')\n",
    "\n",
    "# V404 \n",
    "\n",
    "# color_map_HR(DB = XBs, variable= 'S2_mass', name_of_var=r'Star Two $M_{\\odot}$', examplePoint='T', exampleLum=8.7, exampleTemp = 4274, title='V404 Cyngi HR Context', saveLoc=V404CyngiSaveLoc, ylimit='F', style='default', S_R = 5, fileName='V404XBsPopulationHRComp')\n",
    "\n",
    "# color_map_HR(DB = EndStateDataset, variable= 'S2_mass', name_of_var=r'Star Two $M_{\\odot}$', examplePoint='T', exampleLum=8.7, examplePointRange= 'T', exampleLumMax= 8.7+1.7, exampleLumMin= 8.7 - 1.4,  exampleTemp = 4274, title='V404 Cyngi HR Context', saveLoc=V404CyngiSaveLoc, ylimit='F', style='default', S_R = 5, fileName='V404EndStateDatasetPopulationHRComp')\n",
    "\n",
    "\n",
    "# color_map_HR(DB = EntireDataset, variable= 'S2_mass', name_of_var=r'Star Two $M_{\\odot}$', examplePoint='T', exampleLum=8.7, examplePointRange= 'T', exampleLumMax= 8.7+1.7, exampleLumMin= 8.7 - 1.4,  exampleTemp = 4274, title='V404 Cyngi HR Context', saveLoc=V404CyngiSaveLoc, ylimit='F', style='default', S_R = 5, fileName='V404EntireDatasetPopulationHRComp')\n",
    "\n",
    "# W UMa\n",
    "\n",
    "color_map_HR(DB = contact, variable= 'S2_mass', name_of_var=r'Star Two $M_{\\odot}$', examplePoint='T', exampleLum=1.557, exampleTemp = 6450, title='W Ursae Majories HR Context', saveLoc=WUMaSaveLoc, ylimit='F', style='default', S_R = 5, fileName='WUMaHRDiagram')\n",
    "\n",
    "color_map_HR(DB = contact, variable= 'S2_mass', name_of_var=r'Star Two $M_{\\odot}$', examplePoint='F', exampleLum=1.557, exampleTemp = 6450, title='W Ursae Majories HR Context', saveLoc=WUMaSaveLoc, ylimit='F', style='default', S_R = 5, fileName='ContactbinaryHRDiagram')\n",
    "\n",
    "# posydon example\n",
    "\n",
    "# color_map_HR(DB = EntireDataset, variable= 'S2_mass', name_of_var=r'Star Two $M_{\\odot}$', title='Whole POSYDON Dataset', saveLoc=SaveLoc, ylimit='F', style='default', S_R = 5, fileName='WholePOSYDONDatasetExample')\n",
    "\n"
   ]
  },
  {
   "cell_type": "code",
   "execution_count": null,
   "id": "9f06031e",
   "metadata": {},
   "outputs": [],
   "source": []
  }
 ],
 "metadata": {
  "kernelspec": {
   "display_name": "base",
   "language": "python",
   "name": "python3"
  },
  "language_info": {
   "codemirror_mode": {
    "name": "ipython",
    "version": 3
   },
   "file_extension": ".py",
   "mimetype": "text/x-python",
   "name": "python",
   "nbconvert_exporter": "python",
   "pygments_lexer": "ipython3",
   "version": "3.12.4"
  }
 },
 "nbformat": 4,
 "nbformat_minor": 5
}
